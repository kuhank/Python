{
 "cells": [
  {
   "cell_type": "code",
   "execution_count": 9,
   "id": "7eb6498e-152b-4802-a584-4f2ab45fb931",
   "metadata": {},
   "outputs": [
    {
     "data": {
      "text/plain": [
       "'login360'"
      ]
     },
     "execution_count": 9,
     "metadata": {},
     "output_type": "execute_result"
    }
   ],
   "source": [
    "var = 'login350'\n",
    "#o/p login360\n",
    "# var[6] ='6' # error\n",
    "# string immutatable\n",
    "\n",
    "#concatenation\n",
    "var[:6]+'6'+var[-1]\n",
    "\n"
   ]
  },
  {
   "cell_type": "code",
   "execution_count": 33,
   "id": "d1bcd9ce-59bf-468e-b32b-7c69a21ba894",
   "metadata": {},
   "outputs": [
    {
     "data": {
      "text/plain": [
       "'AIML'"
      ]
     },
     "execution_count": 33,
     "metadata": {},
     "output_type": "execute_result"
    }
   ],
   "source": [
    "var = 'Artification integlligence Machine Learning'\n",
    "# o/p AIML -- abbreviation\n",
    "#x= [''.join(word[0].upper() for word in var.split())]\n",
    "x = [''.join(word[0].upper() for word in var.split())]\n",
    "x[0]\n"
   ]
  },
  {
   "cell_type": "code",
   "execution_count": 17,
   "id": "92627160-c6b1-4472-98dc-1751b59de7f1",
   "metadata": {},
   "outputs": [
    {
     "name": "stdout",
     "output_type": "stream",
     "text": [
      "From forward:  jijbjij\n",
      "from back: jijbjij\n",
      "['adbda', 'jijbjij', 'viviviv']\n"
     ]
    }
   ],
   "source": [
    "var = ['python', 'adbda', 'jijbjij', 'login360']\n",
    "# o/p palindrom = adbda, jijbjij\n",
    "\n",
    "var ='jijbjij'\n",
    "# start:end:step\n",
    "print(\"From forward: \",var[::])\n",
    "print(\"from back:\",var[::-1])\n",
    "var[::]==var[::-1]\n",
    "\n",
    "var = ['python', 'adbda', 'jijbjij', 'viviviv']\n",
    "palindrom=[]\n",
    "for i in var:\n",
    "    if i[::]==i[::-1]:\n",
    "        palindrom.append(i)\n",
    "\n",
    "print(palindrom)    "
   ]
  },
  {
   "cell_type": "code",
   "execution_count": 45,
   "id": "5b32d0e6-ec03-4404-a532-67539d281ee6",
   "metadata": {},
   "outputs": [
    {
     "name": "stdout",
     "output_type": "stream",
     "text": [
      "a count is : 3\n"
     ]
    }
   ],
   "source": [
    "var = 'aabbaeeeeusdflkj'\n",
    "# o/p :a=3, e=2\n",
    "var.count('a')\n",
    "\n",
    "x = set(var)\n",
    "for i in x:\n",
    "    if i == 'a':\n",
    "        print(f\"{i} count is :\", var.count(i))\n",
    "   "
   ]
  },
  {
   "cell_type": "code",
   "execution_count": null,
   "id": "24b109f7-46ce-4af5-a6f8-278351ed75e8",
   "metadata": {},
   "outputs": [],
   "source": [
    "# list and list comprehension\n",
    "datatype : \n",
    "int, string, float\n",
    "\n",
    "datastructure: \n",
    "list = ['a',1,1.2]\n",
    "set = {1,2,3,'a'}\n",
    "dic = {key:value}\n",
    "tuple = (1,2,3)"
   ]
  },
  {
   "cell_type": "code",
   "execution_count": 51,
   "id": "3de58d51-b8ff-4e0a-869c-53875cc2e2a1",
   "metadata": {},
   "outputs": [
    {
     "data": {
      "text/plain": [
       "'this is not login. this is login. i am from chennai'"
      ]
     },
     "execution_count": 51,
     "metadata": {},
     "output_type": "execute_result"
    }
   ],
   "source": [
    "var = 'this is login. i am from chennai. this is login. this is not login'\n",
    "'. '.join(list(set(var.split('. '))))"
   ]
  },
  {
   "cell_type": "code",
   "execution_count": null,
   "id": "d25b57f0-28dc-4032-a2c6-65b25003e4ca",
   "metadata": {},
   "outputs": [],
   "source": [
    "list"
   ]
  }
 ],
 "metadata": {
  "kernelspec": {
   "display_name": "Python 3 (ipykernel)",
   "language": "python",
   "name": "python3"
  },
  "language_info": {
   "codemirror_mode": {
    "name": "ipython",
    "version": 3
   },
   "file_extension": ".py",
   "mimetype": "text/x-python",
   "name": "python",
   "nbconvert_exporter": "python",
   "pygments_lexer": "ipython3",
   "version": "3.13.1"
  }
 },
 "nbformat": 4,
 "nbformat_minor": 5
}
