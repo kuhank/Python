{
 "cells": [
  {
   "cell_type": "markdown",
   "id": "467d92e5-ea6e-4599-ae5a-f181c8b917bb",
   "metadata": {},
   "source": [
    "**python 3 - true division**"
   ]
  },
  {
   "cell_type": "code",
   "execution_count": 3,
   "id": "d2685e94-54dc-4f19-a25f-1667a249cbe3",
   "metadata": {},
   "outputs": [
    {
     "data": {
      "text/plain": [
       "complex"
      ]
     },
     "execution_count": 3,
     "metadata": {},
     "output_type": "execute_result"
    }
   ],
   "source": [
    "#complex number\n",
    "a = 2 + 3j\n",
    "type(a)"
   ]
  },
  {
   "cell_type": "code",
   "execution_count": 6,
   "id": "ce734472-3060-4a38-bc10-b8a087130e12",
   "metadata": {},
   "outputs": [
    {
     "name": "stdout",
     "output_type": "stream",
     "text": [
      "(5+7j)\n",
      "(-1-1j)\n",
      "(-6+17j)\n",
      "(0.72+0.04j)\n",
      "(2-3j)\n",
      "3.605551275463989\n"
     ]
    }
   ],
   "source": [
    "b = 3 + 4j\n",
    "\n",
    "print(a + b)\n",
    "print(a - b)\n",
    "print(a * b)\n",
    "print(a / b)\n",
    "print(a.conjugate())\n",
    "print(abs(a))"
   ]
  },
  {
   "cell_type": "markdown",
   "id": "e226e83b-88f9-4f03-951d-a4ea4a9c1add",
   "metadata": {},
   "source": [
    "**Sequence Types**\n",
    "<pre>\n",
    "string\n",
    "list\n",
    "tuple\n",
    "range\n",
    "</pre>"
   ]
  },
  {
   "cell_type": "markdown",
   "id": "8fa2c37a-e97e-4cca-af3e-fb53132b55e3",
   "metadata": {},
   "source": [
    "**Mapping Type**\n",
    "<pre>\n",
    "Dictionary\n",
    "</pre>pre>\n",
    "\n",
    "**set**\n",
    "<pre> \n",
    "set\n",
    "frozenset\n",
    "</pre>\n",
    "\n",
    "**boolean**\n",
    "<pre> \n",
    "True\n",
    "False\n",
    "</pre>\n",
    "**binary type**\n",
    "<pre> \n",
    "byte\n",
    "bytearray\n",
    "memoryview\n",
    "</pre>\n",
    "**nonetype**\n",
    "<pre> \n",
    "None\n",
    "</pre>"
   ]
  },
  {
   "cell_type": "code",
   "execution_count": 9,
   "id": "265ac123-56dc-4c44-a1f2-85a936a15347",
   "metadata": {},
   "outputs": [
    {
     "name": "stdout",
     "output_type": "stream",
     "text": [
      "kuhan\n",
      "250\n",
      "canada\n"
     ]
    }
   ],
   "source": [
    "#dictionary\n",
    "dict = {1: 'kuhan', 2: 'login360'}\n",
    "print(dict[1])\n",
    "\n",
    "dict2 = {\"apple\": 250, \"banana\": 200}\n",
    "print(dict2[\"apple\"])\n",
    "\n",
    "dict3 = {(1,2):\"canada\", (2,3):\"america\"}\n",
    "print(dict3[(1,2)])"
   ]
  },
  {
   "cell_type": "markdown",
   "id": "d3577b1d-3065-4d56-9567-346553ad6428",
   "metadata": {},
   "source": [
    "**dictionary key can be any immutable datatype**\n",
    "<pre>\n",
    "numbers, strings, tuples, and even frozenset\n",
    "key: unique and hashable  \n",
    "\n",
    "Mutable data types like lists, dictionaries, or sets cannot be used as keys\n",
    "    \n",
    "</pre>"
   ]
  },
  {
   "cell_type": "code",
   "execution_count": 54,
   "id": "dfd10b92-8645-4025-ac6a-08c21206b9c1",
   "metadata": {},
   "outputs": [],
   "source": [
    "#dict_error = {[1,2,3]:\"kuhan\"}\n",
    "#print(dict_error[1,2,3])"
   ]
  },
  {
   "cell_type": "raw",
   "id": "72c15d7b-7716-4378-abdf-a5ed0f5f5501",
   "metadata": {},
   "source": [
    "Dictionary valid key:\n",
    "\n",
    "Valid keys: int, float, str, tuple, frozenset, bool, etc.\n",
    "Invalid keys: list, set, dict (mutable types)."
   ]
  },
  {
   "cell_type": "code",
   "execution_count": 108,
   "id": "f081c363-c037-49d9-bb2c-95b6c60a4e43",
   "metadata": {},
   "outputs": [
    {
     "name": "stdout",
     "output_type": "stream",
     "text": [
      "{'name': 'kuhan', 'qualification': 'MBA', 'address': 'Chennai'}\n",
      "dict_items([('name', 'kuhan'), ('qualification', 'MBA'), ('address', 'Chennai')]) dict_values(['kuhan', 'MBA', 'Chennai']) dict_keys(['name', 'qualification', 'address'])\n",
      "key: name &\tValue: kuhan\n",
      "key: qualification &\tValue: MBA\n",
      "key: address &\tValue: Chennai\n"
     ]
    },
    {
     "data": {
      "text/plain": [
       "{'name': 'kuhan',\n",
       " 'qualification': 'MBA',\n",
       " 'address': 'Chennai',\n",
       " 'parents': True}"
      ]
     },
     "execution_count": 108,
     "metadata": {},
     "output_type": "execute_result"
    }
   ],
   "source": [
    "dic = {\"name\": \"kuhan\", \"Age\":30, \"qualification\": \"Engineering\"}\n",
    "dic[\"qualification\"]= \"MBA\"\n",
    "dic[\"address\"] = \"Chennai\"\n",
    "del dic[\"Age\"]\n",
    "print(dic)\n",
    "print(dic.items(), dic.values(), dic.keys())\n",
    "for k, v in dic.items():\n",
    "    print(\"key:\",k, \"&\\tValue:\", v)\n",
    "dic2 = {\"parents\":True}\n",
    "dic.update(dic2)\n",
    "dic"
   ]
  },
  {
   "cell_type": "markdown",
   "id": "fea61164-86c4-484a-965d-ece787f9bfe8",
   "metadata": {},
   "source": [
    "**sets**"
   ]
  },
  {
   "cell_type": "code",
   "execution_count": 55,
   "id": "10f22704-b220-4389-92e1-e1795cf8c5b5",
   "metadata": {},
   "outputs": [
    {
     "data": {
      "text/plain": [
       "{1, 2, 3}"
      ]
     },
     "execution_count": 55,
     "metadata": {},
     "output_type": "execute_result"
    }
   ],
   "source": [
    "#sets\n",
    "set1 = {1,2,3,3,1}\n",
    "set1"
   ]
  },
  {
   "cell_type": "raw",
   "id": "49eef467-471d-4a24-9dee-4f3d5aa24ac6",
   "metadata": {},
   "source": [
    "Mutable, unordered collection of unique elements\n",
    "unique elements and mathematical set operations."
   ]
  },
  {
   "cell_type": "code",
   "execution_count": 56,
   "id": "97710619-a9e4-4ab3-b8f8-5e6f390bc79c",
   "metadata": {},
   "outputs": [
    {
     "name": "stdout",
     "output_type": "stream",
     "text": [
      "{1, 2, 3, 4, 5}\n",
      "True\n",
      "{1, 2, 3, 4, 5, 6, 7}\n",
      "{4, 5}\n",
      "{4, 5}\n",
      "{1, 2, 3}\n",
      "{6, 7}\n",
      "{1, 2, 3, 6, 7}\n",
      "{'language', 'python', 'is', 'great', 'a'}\n",
      "{1, 2, 3, 4, 5}\n"
     ]
    }
   ],
   "source": [
    "#uniqueness\n",
    "data = [1, 2, 2, 3, 4, 4, 5]\n",
    "unique_data = set(data)\n",
    "print(unique_data)\n",
    "\n",
    "#membership testing\n",
    "print(1 in unique_data)\n",
    "\n",
    "#mathematical operation\n",
    "set2 = {4,5,6,7}\n",
    "print(unique_data | set2) # union\n",
    "print(unique_data & set2) # intersection\n",
    "print(unique_data.intersection(set2))\n",
    "print(unique_data - set2) # difference\n",
    "print(set2 - unique_data) # difference\n",
    "print(set2 ^ unique_data) # symmetric difference\n",
    "\n",
    "word = \"python is a great language python python language\"\n",
    "print(set(word.split())) # remove duplicate words\n",
    "\n",
    "#handling unique ids\n",
    "ids ={1,2,3,4}\n",
    "i=5\n",
    "if i not in ids:\n",
    "    ids.add(i)\n",
    "print(ids)"
   ]
  },
  {
   "cell_type": "raw",
   "id": "27c7db04-cba7-4a97-a53b-1ebd69ed926b",
   "metadata": {},
   "source": [
    "set operations:\n",
    "add\n",
    "update\n",
    "remove (key error)\n",
    "discard\n",
    "clear\n",
    "pop (key error) - random element"
   ]
  },
  {
   "cell_type": "code",
   "execution_count": 57,
   "id": "6a8ba46c-921d-4727-8cbe-7c7426090b17",
   "metadata": {},
   "outputs": [
    {
     "data": {
      "text/plain": [
       "{1, 2, 3, 4, 5, 7, 8, 10, 88}"
      ]
     },
     "execution_count": 57,
     "metadata": {},
     "output_type": "execute_result"
    }
   ],
   "source": [
    "set1={1,2,3}\n",
    "set1.add(4)\n",
    "# set1.update(5) # error because not iteratable\n",
    "set1.update((10,2), [1,5,7,8], {88,3}) # add iteratable element\n",
    "set1"
   ]
  },
  {
   "cell_type": "code",
   "execution_count": 115,
   "id": "6f85f6c8-d4cd-42e7-aebe-602e63c46394",
   "metadata": {},
   "outputs": [
    {
     "name": "stdout",
     "output_type": "stream",
     "text": [
      "frozenset({1, 2, 3})\n"
     ]
    },
    {
     "data": {
      "text/plain": [
       "{1, 2, 3, 4}"
      ]
     },
     "execution_count": 115,
     "metadata": {},
     "output_type": "execute_result"
    }
   ],
   "source": [
    "# forzenset\n",
    "fs = frozenset([1,2,3])\n",
    "print(fs)\n",
    "#fs.add(4)\n",
    "fss=set(fs)\n",
    "fss.add(4)\n",
    "fss"
   ]
  },
  {
   "cell_type": "markdown",
   "id": "3676e927-b78f-4df0-9534-b13322e44e42",
   "metadata": {},
   "source": [
    "**None Type**"
   ]
  },
  {
   "cell_type": "code",
   "execution_count": 58,
   "id": "232b8d7d-7a83-4fe9-9ec2-9f2aadbabef6",
   "metadata": {},
   "outputs": [
    {
     "name": "stdout",
     "output_type": "stream",
     "text": [
      "<class 'NoneType'>\n",
      "140716084986352\n"
     ]
    }
   ],
   "source": [
    "value = None\n",
    "print(type(value))\n",
    "print(id(value))"
   ]
  },
  {
   "cell_type": "markdown",
   "id": "e452188e-5588-41ad-aa15-6e12ce463110",
   "metadata": {},
   "source": [
    "**list - mutable, ordered, different datatype - allowes indexing, slicing and other operations**"
   ]
  },
  {
   "cell_type": "code",
   "execution_count": 59,
   "id": "f0c5ab7e-b08e-44fe-9bd1-2227cfc655a3",
   "metadata": {},
   "outputs": [
    {
     "data": {
      "text/plain": [
       "[1, 'kuhan', [1, 2]]"
      ]
     },
     "execution_count": 59,
     "metadata": {},
     "output_type": "execute_result"
    }
   ],
   "source": [
    "list1 = [1,2,3]\n",
    "list2=[1,\"kuhan\",[1,2]]\n",
    "list2"
   ]
  },
  {
   "cell_type": "code",
   "execution_count": 60,
   "id": "b24ff6cf-a831-415b-b0e9-12c15e2fc097",
   "metadata": {},
   "outputs": [
    {
     "name": "stdout",
     "output_type": "stream",
     "text": [
      "[1, 2]\n",
      "1\n",
      "[1, 'kuhan', [1, 2]]\n",
      "[[1, 2], 'kuhan', 1]\n",
      "2\n",
      "['kuhan']\n"
     ]
    }
   ],
   "source": [
    "print(list2[-1])\n",
    "print(list2[0])\n",
    "print(list2[:3])\n",
    "print(list2[::-1])\n",
    "print(list2[2][1])\n",
    "print(list2[1:2]) # not include ending index element"
   ]
  },
  {
   "cell_type": "code",
   "execution_count": 61,
   "id": "ff08fe0a-6e64-4167-b7ed-13258a7a1a2a",
   "metadata": {},
   "outputs": [
    {
     "data": {
      "text/plain": [
       "[99, 1, 'kuhan', [1, 2], 3, 1, 2]"
      ]
     },
     "execution_count": 61,
     "metadata": {},
     "output_type": "execute_result"
    }
   ],
   "source": [
    "list2.append(3)\n",
    "list2.insert(0,99)\n",
    "list2.extend([1,2])\n",
    "list2"
   ]
  },
  {
   "cell_type": "code",
   "execution_count": 62,
   "id": "da7561f3-ab93-49b0-b8bd-7ffa00914abe",
   "metadata": {},
   "outputs": [
    {
     "data": {
      "text/plain": [
       "[1, 'kuhan', [1, 2], 1, 2]"
      ]
     },
     "execution_count": 62,
     "metadata": {},
     "output_type": "execute_result"
    }
   ],
   "source": [
    "list2.remove(99)\n",
    "list2.pop(3)\n",
    "list2"
   ]
  },
  {
   "cell_type": "code",
   "execution_count": 63,
   "id": "a6c24e57-8145-4fd6-8ac7-9585cc007965",
   "metadata": {},
   "outputs": [],
   "source": [
    "list2.clear()"
   ]
  },
  {
   "cell_type": "code",
   "execution_count": 64,
   "id": "54997fec-8081-4d10-b9d3-635a8d11f893",
   "metadata": {},
   "outputs": [
    {
     "data": {
      "text/plain": [
       "[]"
      ]
     },
     "execution_count": 64,
     "metadata": {},
     "output_type": "execute_result"
    }
   ],
   "source": [
    "list2"
   ]
  },
  {
   "cell_type": "code",
   "execution_count": 66,
   "id": "e6d1cd6b-34df-46c1-8455-313fd2a79af4",
   "metadata": {},
   "outputs": [
    {
     "name": "stdout",
     "output_type": "stream",
     "text": [
      "1\n",
      "2\n",
      "3\n",
      "4\n",
      "2\n",
      "3\n",
      "2\n"
     ]
    }
   ],
   "source": [
    "lst = [1,2,3,4,2,3,2]\n",
    "for i in lst:\n",
    "    print(i)\n",
    "\n"
   ]
  },
  {
   "cell_type": "code",
   "execution_count": 67,
   "id": "56590a14-33e4-4dae-ba43-4b88e0795723",
   "metadata": {},
   "outputs": [
    {
     "name": "stdout",
     "output_type": "stream",
     "text": [
      "3\n",
      "2\n"
     ]
    }
   ],
   "source": [
    "print(lst.count(2))\n",
    "print(lst.index(3))"
   ]
  },
  {
   "cell_type": "code",
   "execution_count": 68,
   "id": "07026d4f-636b-4d20-ab5a-91aaa98773e5",
   "metadata": {},
   "outputs": [
    {
     "data": {
      "text/plain": [
       "[1, 2, 2, 2, 3, 3, 4]"
      ]
     },
     "execution_count": 68,
     "metadata": {},
     "output_type": "execute_result"
    }
   ],
   "source": [
    "lst.sort()\n",
    "lst"
   ]
  },
  {
   "cell_type": "code",
   "execution_count": 76,
   "id": "828ff1e5-8286-4fe7-8198-16cfdc9b2175",
   "metadata": {},
   "outputs": [
    {
     "data": {
      "text/plain": [
       "[4, 3, 3, 2, 2, 2, 1]"
      ]
     },
     "execution_count": 76,
     "metadata": {},
     "output_type": "execute_result"
    }
   ],
   "source": [
    "list(reversed(lst))"
   ]
  },
  {
   "cell_type": "code",
   "execution_count": 77,
   "id": "c2fecdd3-b4c7-47a5-909d-7164470f3af7",
   "metadata": {},
   "outputs": [
    {
     "data": {
      "text/plain": [
       "[1, 2, 2, 2, 3, 3, 4]"
      ]
     },
     "execution_count": 77,
     "metadata": {},
     "output_type": "execute_result"
    }
   ],
   "source": [
    "list(sorted(lst))"
   ]
  },
  {
   "cell_type": "markdown",
   "id": "cd0c5b2a-b694-4072-aa6c-cd43767c5fca",
   "metadata": {},
   "source": [
    "**list comphrehension**\n",
    "\n",
    "concise and elegant way to create lists in Python. It allows you to construct a new list by applying an expression to each element of an iterable (like a list, range, or tuple) and optionally filtering elements with a condition."
   ]
  },
  {
   "cell_type": "code",
   "execution_count": 81,
   "id": "bb33e921-5f23-495b-9bfe-d2a3558f1674",
   "metadata": {},
   "outputs": [
    {
     "name": "stdout",
     "output_type": "stream",
     "text": [
      "[0, 1, 2, 3, 4]\n",
      "[0, 1, 4, 9, 16]\n"
     ]
    }
   ],
   "source": [
    "lst2 = [x for x in range(5)]\n",
    "print(lst2)\n",
    "lst2 = [x**2 for x in range(5)]\n",
    "print(lst2)"
   ]
  },
  {
   "cell_type": "code",
   "execution_count": 89,
   "id": "06b52604-1f4d-4bd8-9ddc-a442192447e1",
   "metadata": {},
   "outputs": [
    {
     "name": "stdout",
     "output_type": "stream",
     "text": [
      "[(0, 0), (0, 1), (0, 2), (1, 0), (1, 1), (1, 2)]\n",
      "[(0, 0), (0, 1), (0, 2), (1, 0), (1, 1), (1, 2)]\n"
     ]
    }
   ],
   "source": [
    "lst = [x for x in range(10) if x % 2==0]\n",
    "lst\n",
    "lst2 = [(x,y) for x in range(2) for y in range(3)]\n",
    "print(lst2)\n",
    "lst3 = [x for x in lst2]\n",
    "print(lst3)"
   ]
  },
  {
   "cell_type": "code",
   "execution_count": 90,
   "id": "d8efc558-6b54-461b-b30c-58ed5473c36e",
   "metadata": {},
   "outputs": [
    {
     "data": {
      "text/plain": [
       "[1, 2, 3, 2, 4, 5]"
      ]
     },
     "execution_count": 90,
     "metadata": {},
     "output_type": "execute_result"
    }
   ],
   "source": [
    "mat = [[1,2,3], [2,4,5]]\n",
    "lst = [x for y in mat for x in y]\n",
    "lst #flattened nested list"
   ]
  },
  {
   "cell_type": "code",
   "execution_count": 97,
   "id": "8a7f2007-980d-41ed-96f7-0dec49520697",
   "metadata": {},
   "outputs": [
    {
     "data": {
      "text/plain": [
       "{'a', 'i', 'u'}"
      ]
     },
     "execution_count": 97,
     "metadata": {},
     "output_type": "execute_result"
    }
   ],
   "source": [
    "#multiplication table\n",
    "eleventable = [x*11 for x in range(3,11)]\n",
    "eleventable\n",
    "\n",
    "#identify vowels\n",
    "name = \"kuhan kailasanathan\"\n",
    "vowels = [i for i in name if i in 'aeiou']\n",
    "set(vowels)"
   ]
  },
  {
   "cell_type": "code",
   "execution_count": 119,
   "id": "30563b7c-91b0-498d-b744-c96a34d322c4",
   "metadata": {},
   "outputs": [
    {
     "name": "stdout",
     "output_type": "stream",
     "text": [
      "10\n"
     ]
    }
   ],
   "source": [
    "#binary\n",
    "a = 0b1010\n",
    "print(a)"
   ]
  },
  {
   "cell_type": "code",
   "execution_count": 131,
   "id": "4f3f6594-853c-4450-b938-1be908f470b0",
   "metadata": {},
   "outputs": [
    {
     "name": "stdout",
     "output_type": "stream",
     "text": [
      "28 140716085872872\n",
      "46 2719344381696\n",
      "88 2719352660672\n",
      "88 140716085872872\n",
      "88 2719352660672\n"
     ]
    }
   ],
   "source": [
    "# some import topic\n",
    "#get memory details\n",
    "a=43\n",
    "b= \"kuhan\"\n",
    "c=[1,2,3]\n",
    "d=43\n",
    "import sys\n",
    "print(sys.getsizeof(a), id(a))\n",
    "print(sys.getsizeof(b), id(b))\n",
    "print(sys.getsizeof(c), id(c))\n",
    "print(sys.getsizeof(c), id(d))\n",
    "c.append(4)\n",
    "print(sys.getsizeof(c), id(c))"
   ]
  },
  {
   "cell_type": "raw",
   "id": "e3473dee-6277-4c30-871a-a311b7316708",
   "metadata": {},
   "source": [
    "Immutable Objects: For types like int, str, or tuple, a new object is created for every unique value.\n",
    "Mutable Objects: For types like list, dict, or set, the memory address remains the same when modified."
   ]
  },
  {
   "cell_type": "code",
   "execution_count": 134,
   "id": "0805e286-4ca6-4128-a51f-0466b4777ba5",
   "metadata": {},
   "outputs": [
    {
     "name": "stdout",
     "output_type": "stream",
     "text": [
      "3\n",
      "[1, 2, [99, 4]]\n",
      "[1, 2, [99, 4]]\n"
     ]
    }
   ],
   "source": [
    "#shallow copy and Deep copy\n",
    "import copy\n",
    "\n",
    "lst = [1,2,[3,4]]\n",
    "lst2 = copy.copy(lst)\n",
    "print(lst2[2][0])\n",
    "lst2[2][0]=99\n",
    "print(lst)\n",
    "print(lst2)"
   ]
  },
  {
   "cell_type": "code",
   "execution_count": 135,
   "id": "53d2c996-aeb7-4cb8-bd6e-88112e205e31",
   "metadata": {},
   "outputs": [
    {
     "name": "stdout",
     "output_type": "stream",
     "text": [
      "3\n",
      "[1, 2, [3, 4]]\n",
      "[1, 2, [99, 4]]\n"
     ]
    }
   ],
   "source": [
    "lst = [1,2,[3,4]]\n",
    "lst2 = copy.deepcopy(lst)\n",
    "print(lst2[2][0])\n",
    "lst2[2][0]=99\n",
    "print(lst)\n",
    "print(lst2)"
   ]
  },
  {
   "cell_type": "code",
   "execution_count": 140,
   "id": "575817f5-8314-4afa-a734-07f423ecbce5",
   "metadata": {},
   "outputs": [
    {
     "name": "stdout",
     "output_type": "stream",
     "text": [
      "[1, 2, [99, 4]]\n",
      "[1, 2, [99, 4]]\n",
      "{1: 'A', 2: [1, 5]}\n",
      "{1: 'A', 2: [1, 5]}\n"
     ]
    }
   ],
   "source": [
    "lst3= lst[:]\n",
    "lst3[2][0]=99\n",
    "print(lst)\n",
    "print(lst3)\n",
    "\n",
    "dic = {1:\"A\", 2:[1,2]}\n",
    "dic2= dic.copy()\n",
    "dic2[2][1]=5\n",
    "print(dic)\n",
    "print(dic2)"
   ]
  },
  {
   "cell_type": "code",
   "execution_count": 146,
   "id": "fb1a5f97-5dac-48bd-aac6-5cd0e5929957",
   "metadata": {},
   "outputs": [
    {
     "name": "stdout",
     "output_type": "stream",
     "text": [
      "[1, 2, [3, 4]]\n",
      "[1, 2, [3, 4]]\n",
      "[1, 2, [3, 99]]\n"
     ]
    }
   ],
   "source": [
    "#deep copy using list comprehension\n",
    "#list comprehension: [expression for item in itereable if condition]\n",
    "lst = [1,2,[3,4]]\n",
    "lst2 = [x[:] if isinstance(x, list) else x for x in lst]\n",
    "print(lst2)\n",
    "lst2[2][1]=99\n",
    "print(lst)\n",
    "print(lst2)"
   ]
  },
  {
   "cell_type": "code",
   "execution_count": 150,
   "id": "681e6a5f-90ec-4082-b327-c24432e8a71c",
   "metadata": {},
   "outputs": [
    {
     "name": "stdout",
     "output_type": "stream",
     "text": [
      "[[ 1  4  9]\n",
      " [ 4  9 16]\n",
      " [25 36 49]]\n",
      "[[20 26 32]\n",
      " [28 37 46]\n",
      " [52 70 88]]\n"
     ]
    }
   ],
   "source": [
    "import numpy as np\n",
    "mat = np.array([[1,2,3],[2,3,4],[5,6,7]])\n",
    "mat2 = np.array([[1,2,3],[2,3,4],[5,6,7]])\n",
    "print(np.dot(mat,mat2))"
   ]
  },
  {
   "cell_type": "code",
   "execution_count": 151,
   "id": "88b9c547-2f61-4f10-a826-c24390ab1163",
   "metadata": {},
   "outputs": [
    {
     "name": "stdout",
     "output_type": "stream",
     "text": [
      "[2, 4, 6]\n",
      "[2 4 6]\n"
     ]
    }
   ],
   "source": [
    "lst = [1,2,3]\n",
    "arr = np.array([1,2,3])\n",
    "lst = [x*2 for x in lst]\n",
    "arr = arr*2\n",
    "print(lst)\n",
    "print(arr)"
   ]
  },
  {
   "cell_type": "code",
   "execution_count": 152,
   "id": "0d943d6d-53a6-4b6c-ab02-2b8b92ef9f3a",
   "metadata": {},
   "outputs": [
    {
     "data": {
      "text/plain": [
       "[4, 6]"
      ]
     },
     "execution_count": 152,
     "metadata": {},
     "output_type": "execute_result"
    }
   ],
   "source": [
    "lst = [1,2]\n",
    "lst2 = [3,4]\n",
    "lst3 = [x + y for x,y in zip(lst, lst2)]\n",
    "lst3"
   ]
  },
  {
   "cell_type": "code",
   "execution_count": 153,
   "id": "677d22f0-bcde-4f18-86cf-0f193e1980db",
   "metadata": {},
   "outputs": [
    {
     "data": {
      "text/plain": [
       "array([4, 6])"
      ]
     },
     "execution_count": 153,
     "metadata": {},
     "output_type": "execute_result"
    }
   ],
   "source": [
    "arr = np.array([1,2])\n",
    "arr2 = np.array([3,4])\n",
    "arr+arr2"
   ]
  },
  {
   "cell_type": "code",
   "execution_count": null,
   "id": "fd48860d-b276-47d3-af7e-9af846003644",
   "metadata": {},
   "outputs": [],
   "source": []
  }
 ],
 "metadata": {
  "kernelspec": {
   "display_name": "Python 3 (ipykernel)",
   "language": "python",
   "name": "python3"
  },
  "language_info": {
   "codemirror_mode": {
    "name": "ipython",
    "version": 3
   },
   "file_extension": ".py",
   "mimetype": "text/x-python",
   "name": "python",
   "nbconvert_exporter": "python",
   "pygments_lexer": "ipython3",
   "version": "3.13.1"
  }
 },
 "nbformat": 4,
 "nbformat_minor": 5
}
