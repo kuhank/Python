{
 "cells": [
  {
   "cell_type": "code",
   "execution_count": null,
   "metadata": {},
   "outputs": [
    {
     "name": "stdout",
     "output_type": "stream",
     "text": [
      "['L', 'gin360']\n",
      "<class 'list'> <class 'str'>\n"
     ]
    }
   ],
   "source": [
    "#string - split\n",
    "\n",
    "var1 = \"Login360\"\n",
    "print(var1.split('o'))\n",
    "var2 = var1.split('o')\n",
    "print(type(var2), type(var1))"
   ]
  },
  {
   "cell_type": "code",
   "execution_count": 34,
   "metadata": {},
   "outputs": [
    {
     "name": "stdout",
     "output_type": "stream",
     "text": [
      "a\n",
      "p\n",
      "p\n",
      "l\n",
      "e\n",
      "index:  0  value using index:  a  value using values:  a\n",
      "index:  1  value using index:  p  value using values:  p\n",
      "index:  2  value using index:  p  value using values:  p\n",
      "index:  3  value using index:  l  value using values:  l\n",
      "index:  4  value using index:  e  value using values:  e\n"
     ]
    },
    {
     "data": {
      "text/plain": [
       "'Apple'"
      ]
     },
     "execution_count": 34,
     "metadata": {},
     "output_type": "execute_result"
    }
   ],
   "source": [
    "#string indexing and slicing\n",
    "\n",
    "var1[::]\n",
    "#[start: end : step]\n",
    "\n",
    "# reversing\n",
    "var1[::-1]\n",
    "\n",
    "list(var1) == [x for x in var1]\n",
    "\n",
    "for i in range(len(var1)):\n",
    "    print(var1[i])\n",
    "\n",
    "# enumerator\n",
    "for idx, value in enumerate(var1):\n",
    "    print(\"index: \",idx, \" value using index: \", var1[idx], \" value using values: \", value)\n",
    "\n",
    "# Immutability of string\n",
    "\n",
    "var1 = \"apple\"\n",
    "## var1[0] = 'A' # TypeError: 'str' object does not support item assignment\n",
    "'A' + var1[1:]\n"
   ]
  },
  {
   "cell_type": "code",
   "execution_count": 39,
   "metadata": {},
   "outputs": [
    {
     "name": "stdout",
     "output_type": "stream",
     "text": [
      "My name is kuhan\n",
      "my name is kuhan\n",
      "my name is kuhan and i work in IT\n",
      "my name is kuhan\n",
      "vegetables order are orange Apple carrot\n",
      "vegetables order are apple apple juice\n",
      "the Integer:     100.00\n"
     ]
    }
   ],
   "source": [
    "#string intropolation\n",
    "\n",
    "name = \"kuhan\"\n",
    "print(f\"My name is {name}\")\n",
    "\n",
    "# method 1\n",
    "print(\"my name is %s\"%name)\n",
    "print(\"my name is %s and i work in %s\"%(\"kuhan\", \"IT\"))\n",
    "\n",
    "# method 2\n",
    "print(\"my name is {}\".format(name))\n",
    "\n",
    "#method 3\n",
    "a = 'Apple'\n",
    "b = \"orange\"\n",
    "c = \"carrot\"\n",
    "\n",
    "\n",
    "print(\"vegetables order are {1} {0} {2}\".format(a,b,c))\n",
    "print(\"vegetables order are {a} {a} {c}\".format(a='apple',b='orange',c='juice'))\n",
    "\n",
    "\n",
    "\n",
    "# string formating\n",
    "\n",
    "int_var = 100\n",
    "print(f\"the Integer: {int_var:10.2f}\") # variable:padding.deciaml<f>\n"
   ]
  },
  {
   "cell_type": "code",
   "execution_count": 56,
   "metadata": {},
   "outputs": [
    {
     "name": "stdout",
     "output_type": "stream",
     "text": [
      "C:\\\\mypath\\\\test.txt\n"
     ]
    }
   ],
   "source": [
    "# String functions\n",
    "\n",
    "path = r\"C:\\\\mypath\"\n",
    "file = \"test.txt\"\n",
    "\n",
    "lst = []\n",
    "\n",
    "lst.append(path)\n",
    "lst.append(file)\n",
    "\n",
    "fullpath = r'\\\\'.join(lst)\n",
    "print(fullpath)"
   ]
  }
 ],
 "metadata": {
  "kernelspec": {
   "display_name": ".venv",
   "language": "python",
   "name": "python3"
  },
  "language_info": {
   "codemirror_mode": {
    "name": "ipython",
    "version": 3
   },
   "file_extension": ".py",
   "mimetype": "text/x-python",
   "name": "python",
   "nbconvert_exporter": "python",
   "pygments_lexer": "ipython3",
   "version": "3.13.1"
  }
 },
 "nbformat": 4,
 "nbformat_minor": 2
}
