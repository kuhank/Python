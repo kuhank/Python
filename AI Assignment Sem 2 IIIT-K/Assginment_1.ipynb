{
  "nbformat": 4,
  "nbformat_minor": 0,
  "metadata": {
    "colab": {
      "provenance": [],
      "authorship_tag": "ABX9TyOjwqM9rlV+nyfaBS3i2NB/"
    },
    "kernelspec": {
      "name": "python3",
      "display_name": "Python 3"
    },
    "language_info": {
      "name": "python"
    }
  },
  "cells": [
    {
      "cell_type": "code",
      "execution_count": 1,
      "metadata": {
        "colab": {
          "base_uri": "https://localhost:8080/"
        },
        "id": "QFYqdYO2ppIT",
        "outputId": "fa6e24a5-3803-4bc8-d548-6a20071a7263"
      },
      "outputs": [
        {
          "output_type": "stream",
          "name": "stdout",
          "text": [
            "Enter the number of elements: 4\n",
            "Enter element 1 of the array: 3\n",
            "Enter element 2 of the array: 6\n",
            "Enter element 3 of the array: 7\n",
            "Enter element 4 of the array: 1\n",
            "Enter index for element 1: 2\n",
            "Enter index for element 2: 0\n",
            "Enter index for element 3: 1\n",
            "Enter index for element 4: 3\n",
            "Reordered array: [6, 7, 3, 1]\n"
          ]
        }
      ],
      "source": [
        "def reorder_elements(arr, index):\n",
        "    # Create a new list to store reordered elements\n",
        "    reordered_arr = [0] * len(arr)\n",
        "\n",
        "    # Reorder elements according to index\n",
        "    for i in range(len(arr)):\n",
        "        reordered_arr[index[i]] = arr[i]\n",
        "\n",
        "    return reordered_arr\n",
        "\n",
        "# Input the number of elements\n",
        "n = int(input(\"Enter the number of elements: \"))\n",
        "\n",
        "# Input the elements of the array\n",
        "arr = []\n",
        "for i in range(n):\n",
        "    arr.append(int(input(f\"Enter element {i+1} of the array: \")))\n",
        "\n",
        "# Input the elements of the index array\n",
        "index = []\n",
        "for i in range(n):\n",
        "    index.append(int(input(f\"Enter index for element {i+1}: \")))\n",
        "\n",
        "# Reorder the array based on the index\n",
        "reordered_arr = reorder_elements(arr, index)\n",
        "\n",
        "# Output the reordered array\n",
        "print(\"Reordered array:\", reordered_arr)\n",
        "\n",
        "\n"
      ]
    },
    {
      "cell_type": "code",
      "source": [
        "def calculate_trace(matrix):\n",
        "    # Ensure the matrix is square\n",
        "    n = len(matrix)\n",
        "    if not all(len(row) == n for row in matrix):\n",
        "        raise ValueError(\"The matrix must be square.\")\n",
        "\n",
        "    # Calculate the trace by summing up the diagonal elements\n",
        "    trace = sum(matrix[i][i] for i in range(n))\n",
        "    return trace\n",
        "\n",
        "# Input Matrix\n",
        "matrix = [[1,5,2],\n",
        "          [8,5,2],\n",
        "          [0,9,1]]\n",
        "print(\"Matrix input given: \\n\")\n",
        "for row in matrix:\n",
        "  print(row)\n",
        "print(\"\\nTrace of the matrix:\\n\")\n",
        "calculate_trace(matrix)"
      ],
      "metadata": {
        "colab": {
          "base_uri": "https://localhost:8080/"
        },
        "id": "1V9CH-FCqMR6",
        "outputId": "5fe38805-ee34-4791-f3b4-a259728dc9f4"
      },
      "execution_count": 13,
      "outputs": [
        {
          "output_type": "stream",
          "name": "stdout",
          "text": [
            "Matrix input given: \n",
            "\n",
            "[1, 5, 2]\n",
            "[8, 5, 2]\n",
            "[0, 9, 1]\n",
            "\n",
            "Trace of the matrix:\n",
            "\n"
          ]
        },
        {
          "output_type": "execute_result",
          "data": {
            "text/plain": [
              "7"
            ]
          },
          "metadata": {},
          "execution_count": 13
        }
      ]
    },
    {
      "cell_type": "code",
      "source": [
        "def print_matrix(matrix):\n",
        "    # Iterate over each row in the matrix\n",
        "    for row in matrix:\n",
        "        # Print each row as a space-separated string of numbers\n",
        "        # print(\" \".join(map(str, row)))\n",
        "        print(row)\n",
        "\n",
        "def transpose_matrix(matrix):\n",
        "    # Get the number of rows and columns\n",
        "    rows = len(matrix)\n",
        "    cols = len(matrix[0])\n",
        "\n",
        "    # Initialize the transpose matrix with switched dimensions\n",
        "    # it will be all zero matrix with switched dimensions\n",
        "    transpose = []\n",
        "    for i in range(0,cols):\n",
        "      transpose.append([0]*rows) # if rows = 3 [0,0,0] will be appended\n",
        "\n",
        "    # Fill the transpose matrix by swapping rows with columns\n",
        "    for i in range(rows):\n",
        "        for j in range(cols):\n",
        "            transpose[j][i] = matrix[i][j]\n",
        "\n",
        "    return transpose\n",
        "\n",
        "# Input matrix\n",
        "matrix = [[4,2,0],\n",
        "          [0,9,6]]\n",
        "\n",
        "print(\"Original Matrix: \\n\")\n",
        "print_matrix(matrix)\n",
        "transpose_mat = transpose_matrix(matrix)\n",
        "print(\"\\nMatrix after transpose: \\n\")\n",
        "print_matrix(transpose_mat)"
      ],
      "metadata": {
        "colab": {
          "base_uri": "https://localhost:8080/"
        },
        "id": "Oame8j2hqUUQ",
        "outputId": "da3b4871-9681-4223-f8af-3e1a427b693a"
      },
      "execution_count": 10,
      "outputs": [
        {
          "output_type": "stream",
          "name": "stdout",
          "text": [
            "Original Matrix: \n",
            "\n",
            "[4, 2, 0]\n",
            "[0, 9, 6]\n",
            "\n",
            "Matrix after transpose: \n",
            "\n",
            "[4, 0]\n",
            "[2, 9]\n",
            "[0, 6]\n"
          ]
        }
      ]
    }
  ]
}